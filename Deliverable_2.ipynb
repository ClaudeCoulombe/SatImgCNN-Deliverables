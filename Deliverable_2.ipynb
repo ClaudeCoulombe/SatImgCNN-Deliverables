{
 "cells": [
  {
   "cell_type": "markdown",
   "metadata": {},
   "source": [
    "# Monitoring Changes in Surface Water Using Satellite Image Data \n",
    "\n",
    "## Set-up data pipeline"
   ]
  },
  {
   "cell_type": "markdown",
   "metadata": {},
   "source": [
    "<table style=\"font-size: 1em; padding: 0; margin: 0;\">\n",
    "<p style=\"border: 1px solid #ff5733; border-left: 15px solid #ff5733; padding: 10px; text-align:justify;\">\n",
    "    <strong style=\"color: #ff5733\">Deliverable</strong>  \n",
    "    <br/>The deliverable for Part 2 is a jupyter notebook showing a workflow to create test and training datasets, consisting of folders of imagery and corresponding label imagery, ready for training a semantic segmentation model in keras. This will mostly test your understanding the generic workflow for preparing a dataset to train and test a deep learning model, which is an essential component of the remaining Parts.\n",
    "    </p>"
   ]
  },
  {
   "cell_type": "markdown",
   "metadata": {},
   "source": [
    "### Python packages importation"
   ]
  },
  {
   "cell_type": "code",
   "execution_count": 1,
   "metadata": {},
   "outputs": [
    {
     "name": "stdout",
     "output_type": "stream",
     "text": [
      "rasterio version 0.36.0\n",
      "TensorFlow version 2.0.0\n"
     ]
    }
   ],
   "source": [
    "import shutil, os\n",
    "import glob\n",
    "import json\n",
    "\n",
    "from matplotlib import pyplot as plt\n",
    "# In order to avoid DecompressionBombError\n",
    "from PIL import Image\n",
    "Image.MAX_IMAGE_PIXELS = None\n",
    "\n",
    "import rasterio\n",
    "print(\"rasterio version\",rasterio.__version__)\n",
    "import tensorflow as tf\n",
    "print(\"TensorFlow version\",tf.__version__)\n"
   ]
  },
  {
   "cell_type": "markdown",
   "metadata": {},
   "source": [
    "### Directories and data folder set-up\n"
   ]
  },
  {
   "cell_type": "code",
   "execution_count": 6,
   "metadata": {},
   "outputs": [
    {
     "name": "stdout",
     "output_type": "stream",
     "text": [
      "Code executed\n"
     ]
    }
   ],
   "source": [
    "## create directories to move the images and labels into. \n",
    "## It is wrapped in a \"try:except\" loop \n",
    "## in case you have run this cell before and want to avoid errors\n",
    "try:\n",
    "    os.mkdir('training_images')\n",
    "    os.mkdir('training_labels')\n",
    "    os.mkdir('validation_images')\n",
    "    os.mkdir('validation_labels')\n",
    "    os.mkdir('testing_images')\n",
    "    os.mkdir('testing_labels')\n",
    "except:\n",
    "    pass\n",
    "\n",
    "print(\"Code executed\")\n"
   ]
  },
  {
   "cell_type": "markdown",
   "metadata": {},
   "source": [
    "### Data acquisition"
   ]
  },
  {
   "cell_type": "markdown",
   "metadata": {},
   "source": [
    "##### Download the dataset from google drive. \n",
    "\n",
    "Warning, this will download 415 MB. We saw this function for downloading a file in the previous Part"
   ]
  },
  {
   "cell_type": "code",
   "execution_count": 4,
   "metadata": {},
   "outputs": [
    {
     "name": "stdout",
     "output_type": "stream",
     "text": [
      "Code loaded\n"
     ]
    }
   ],
   "source": [
    "# from https://stackoverflow.com/questions/38511444/python-download-files-from-google-drive-using-url\n",
    "import requests\n",
    "\n",
    "def download_file_from_google_drive(id, destination):\n",
    "    URL = \"https://docs.google.com/uc?export=download\"\n",
    "\n",
    "    session = requests.Session()\n",
    "\n",
    "    response = session.get(URL, params = { 'id' : id }, stream = True)\n",
    "    token = get_confirm_token(response)\n",
    "\n",
    "    if token:\n",
    "        params = { 'id' : id, 'confirm' : token }\n",
    "        response = session.get(URL, params = params, stream = True)\n",
    "\n",
    "    save_response_content(response, destination)    \n",
    "\n",
    "def get_confirm_token(response):\n",
    "    for key, value in response.cookies.items():\n",
    "        if key.startswith('download_warning'):\n",
    "            return value\n",
    "\n",
    "    return None\n",
    "\n",
    "def save_response_content(response, destination):\n",
    "    \"\"\"\n",
    "    response = filename for input\n",
    "    destination = filename for output\n",
    "    \"\"\"    \n",
    "    CHUNK_SIZE = 32768\n",
    "\n",
    "    with open(destination, \"wb\") as f:\n",
    "        for chunk in response.iter_content(CHUNK_SIZE):\n",
    "            if chunk: # filter out keep-alive new chunks\n",
    "                f.write(chunk)\n",
    "\n",
    "import zipfile\n",
    "\n",
    "def unzip_nwpu(f):\n",
    "    \"\"\"\n",
    "    f = file to be unzipped\n",
    "    \"\"\"    \n",
    "    with zipfile.ZipFile(f, 'r') as zip_ref:\n",
    "        zip_ref.extractall()\n",
    "print(\"Code loaded\")\n"
   ]
  },
  {
   "cell_type": "markdown",
   "metadata": {},
   "source": [
    "Download the google drive file into a zipped folder on your computer called `NWPU_images.zip`. This should be 405 MB"
   ]
  },
  {
   "cell_type": "code",
   "execution_count": null,
   "metadata": {},
   "outputs": [],
   "source": [
    "file_id = '14kkcuU6wd9UMvjaDrg3PNI-e_voCi8HL'\n",
    "destination = 'NWPU_images.zip'\n",
    "download_file_from_google_drive(file_id, destination)\n",
    "print(\"Code executed\")\n"
   ]
  },
  {
   "cell_type": "markdown",
   "metadata": {},
   "source": [
    "Unzip the folder (this may take a few minutes) as a new folder called images"
   ]
  },
  {
   "cell_type": "code",
   "execution_count": 42,
   "metadata": {},
   "outputs": [
    {
     "name": "stdout",
     "output_type": "stream",
     "text": [
      "Code executed\n"
     ]
    }
   ],
   "source": [
    "unzip_nwpu(destination)\n",
    "print(\"Code executed\")\n"
   ]
  },
  {
   "cell_type": "markdown",
   "metadata": {},
   "source": [
    "Rename the `images` directory"
   ]
  },
  {
   "cell_type": "code",
   "execution_count": 43,
   "metadata": {},
   "outputs": [
    {
     "name": "stdout",
     "output_type": "stream",
     "text": [
      "Code executed\n"
     ]
    }
   ],
   "source": [
    "import shutil, os\n",
    "\n",
    "try:\n",
    "    os.rename('images','nwpu_images')\n",
    "except:\n",
    "    pass\n",
    "\n",
    "print(\"Code executed\")\n"
   ]
  },
  {
   "cell_type": "markdown",
   "metadata": {},
   "source": [
    "Remove non-lake directories that we won't need. First find all subdirectories (except the first, which is the parent directory)"
   ]
  },
  {
   "cell_type": "code",
   "execution_count": 44,
   "metadata": {},
   "outputs": [
    {
     "name": "stdout",
     "output_type": "stream",
     "text": [
      "Code executed\n"
     ]
    }
   ],
   "source": [
    "subdirecs = [x[0] for x in os.walk('nwpu_images')][1:]\n",
    "to_delete = [s for s in subdirecs if 'lake' not in s]\n",
    "for k in to_delete:\n",
    "    shutil.rmtree(k, ignore_errors=True) \n",
    "print(\"Code executed\")\n"
   ]
  },
  {
   "cell_type": "markdown",
   "metadata": {},
   "source": [
    "### Dispatch the data in the appropriate directory"
   ]
  },
  {
   "cell_type": "markdown",
   "metadata": {},
   "source": [
    "#### Dispatch training data"
   ]
  },
  {
   "cell_type": "code",
   "execution_count": 9,
   "metadata": {
    "scrolled": true
   },
   "outputs": [
    {
     "name": "stdout",
     "output_type": "stream",
     "text": [
      "Code loaded\n"
     ]
    }
   ],
   "source": [
    "import shutil, os\n",
    "import json\n",
    "\n",
    "data_dir = \"/home/user/Documents/ImgSatCNN-Project/Buscombe_liveProject_Feb2020/SatImgCNN-Deliverables\"\n",
    "data_dir_labels = data_dir + os.sep + \"nwpu_labels\" \n",
    "data_dir_images = data_dir + os.sep + \"nwpu_images\" + os.sep + 'lake'\n",
    "\n",
    "\n",
    "def dispatch_data(grouped_json_labels,images_dir,labels_dir):\n",
    "    with open(grouped_json_labels, 'r') as read_file:\n",
    "        grouped_json_data = json.load(read_file)\n",
    "        for lake_id in grouped_json_data:\n",
    "            # print(lake_id)\n",
    "            shutil.copyfile(data_dir_images+os.sep+lake_id, images_dir+os.sep+lake_id)\n",
    "            individual_json_lake_label = json.dumps(grouped_json_data[lake_id])\n",
    "            with open(labels_dir + os.sep + lake_id.split('.')[0] + '.json', 'w') as write_file:\n",
    "                write_file.write(individual_json_lake_label)\n",
    "\n",
    "print(\"Code loaded\")\n"
   ]
  },
  {
   "cell_type": "code",
   "execution_count": 11,
   "metadata": {},
   "outputs": [
    {
     "name": "stdout",
     "output_type": "stream",
     "text": [
      "Code executed\n"
     ]
    }
   ],
   "source": [
    "# training data\n",
    "grouped_json_training_labels =  data_dir_labels + os.sep + \"nwpu_lakes_30samples.json\"\n",
    "training_images_dir = data_dir + os.sep + \"training_images\"\n",
    "training_labels_dir = data_dir + os.sep + \"training_labels\"\n",
    "dispatch_data(grouped_json_training_labels,training_images_dir,training_labels_dir)\n",
    "print(\"Code executed\")\n"
   ]
  },
  {
   "cell_type": "code",
   "execution_count": 13,
   "metadata": {},
   "outputs": [
    {
     "name": "stdout",
     "output_type": "stream",
     "text": [
      "Code executed\n"
     ]
    }
   ],
   "source": [
    "# validation data\n",
    "grouped_json_validation_labels =  data_dir_labels + os.sep + \"nwpu_lakes_20samplesA.json\"\n",
    "validation_images_dir = data_dir + os.sep + \"validation_images\"\n",
    "validation_labels_dir = data_dir + os.sep + \"validation_labels\"\n",
    "dispatch_data(grouped_json_validation_labels,validation_images_dir,validation_labels_dir)\n",
    "print(\"Code executed\")\n"
   ]
  },
  {
   "cell_type": "code",
   "execution_count": 14,
   "metadata": {},
   "outputs": [
    {
     "name": "stdout",
     "output_type": "stream",
     "text": [
      "Code executed\n"
     ]
    }
   ],
   "source": [
    "# testing data\n",
    "grouped_json_testing_labels =  data_dir_labels + os.sep + \"nwpu_lakes_20samplesB.json\"\n",
    "testing_images_dir = data_dir + os.sep + \"testing_images\"\n",
    "testing_labels_dir = data_dir + os.sep + \"testing_labels\"\n",
    "dispatch_data(grouped_json_testing_labels,testing_images_dir,testing_labels_dir)\n",
    "print(\"Code executed\")\n"
   ]
  },
  {
   "cell_type": "code",
   "execution_count": null,
   "metadata": {},
   "outputs": [],
   "source": [
    "print(\"Notebook executed\")"
   ]
  }
 ],
 "metadata": {
  "kernelspec": {
   "display_name": "Python 3",
   "language": "python",
   "name": "python3"
  },
  "language_info": {
   "codemirror_mode": {
    "name": "ipython",
    "version": 3
   },
   "file_extension": ".py",
   "mimetype": "text/x-python",
   "name": "python",
   "nbconvert_exporter": "python",
   "pygments_lexer": "ipython3",
   "version": "3.7.0"
  }
 },
 "nbformat": 4,
 "nbformat_minor": 4
}
