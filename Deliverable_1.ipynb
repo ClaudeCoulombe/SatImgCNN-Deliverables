{
 "cells": [
  {
   "cell_type": "markdown",
   "metadata": {},
   "source": [
    "# Monitoring Changes in Surface Water Using Satellite Image Data "
   ]
  },
  {
   "cell_type": "markdown",
   "metadata": {},
   "source": [
    "<table style=\"font-size: 1em; padding: 0; margin: 0;\">\n",
    "<p style=\"border: 1px solid #ff5733; border-left: 15px solid #ff5733; padding: 10px; text-align:justify;\">\n",
    "    <strong style=\"color: #ff5733\">Deliverable</strong>  \n",
    "    <br/>The deliverable for Part 1 is a jupyter notebook showing an example image(s) of a satellite dataset read in using rasterio, and demonstration of a function that carries out a manipulation of that image using keras and Tensorflow 2.0. That manipulation could be anything that alters the image, such as its size, geometry (shape), pixel intensities, or spatial projection. This will mostly test your understanding of keras syntax, which is an essential component of the remaining Parts. You may find the <a href=\"https://www.tensorflow.org/api_docs/python/tf/image\">ten"
   ]
  },
  {
   "cell_type": "markdown",
   "metadata": {},
   "source": [
    "### Python packages importation"
   ]
  },
  {
   "cell_type": "code",
   "execution_count": null,
   "metadata": {},
   "outputs": [],
   "source": [
    "import os\n",
    "import glob\n",
    "\n",
    "from matplotlib import pyplot as plt\n",
    "# In order to avoid DecompressionBombError\n",
    "from PIL import Image\n",
    "Image.MAX_IMAGE_PIXELS = None\n",
    "\n",
    "import rasterio\n",
    "print(\"rasterio version\",rasterio.__version__)\n",
    "import tensorflow as tf\n",
    "print(\"TensorFlow version\",tf.__version__)\n"
   ]
  },
  {
   "cell_type": "markdown",
   "metadata": {},
   "source": [
    "### Data acquisition\n",
    "\n",
    "The below function download a sample Sentinel-2 JP2 (JPEG2000) file from google drive"
   ]
  },
  {
   "cell_type": "code",
   "execution_count": null,
   "metadata": {},
   "outputs": [],
   "source": [
    "# from https://stackoverflow.com/questions/38511444/python-download-files-from-google-drive-using-url\n",
    "import requests\n",
    "\n",
    "def download_file_from_google_drive(id, destination):\n",
    "    URL = \"https://docs.google.com/uc?export=download\"\n",
    "\n",
    "    session = requests.Session()\n",
    "\n",
    "    response = session.get(URL, params = { 'id' : id }, stream = True)\n",
    "    token = get_confirm_token(response)\n",
    "\n",
    "    if token:\n",
    "        params = { 'id' : id, 'confirm' : token }\n",
    "        response = session.get(URL, params = params, stream = True)\n",
    "\n",
    "    save_response_content(response, destination)    \n",
    "\n",
    "def get_confirm_token(response):\n",
    "    for key, value in response.cookies.items():\n",
    "        if key.startswith('download_warning'):\n",
    "            return value\n",
    "\n",
    "    return None\n",
    "\n",
    "def save_response_content(response, destination):\n",
    "    CHUNK_SIZE = 32768\n",
    "\n",
    "    with open(destination, \"wb\") as f:\n",
    "        for chunk in response.iter_content(CHUNK_SIZE):\n",
    "            if chunk: # filter out keep-alive new chunks\n",
    "                f.write(chunk)\n",
    "\n",
    "print(\"Code loaded\")"
   ]
  },
  {
   "cell_type": "code",
   "execution_count": null,
   "metadata": {},
   "outputs": [],
   "source": [
    "file_id = '1o76QoBtn6ExxO8KgcCqdOiun_KsWoMJl'\n",
    "destination = 'Lake_Poopo_Bolivia.jp2'\n",
    "download_file_from_google_drive(file_id, destination)\n",
    "\n",
    "print(\"Data downloaded\")"
   ]
  },
  {
   "cell_type": "code",
   "execution_count": null,
   "metadata": {},
   "outputs": [],
   "source": [
    "images = rasterio.open('Lake_Poopo_Bolivia.jp2', driver='JP2OpenJPEG')\n",
    "array = images.read(1)\n",
    "print(images.profile)\n"
   ]
  },
  {
   "cell_type": "markdown",
   "metadata": {},
   "source": [
    "### Image file format conversion \n",
    "\n",
    "<strong>Tensorflow has no Decoder for TIFF Images!!!</strong>\n",
    "https://stackoverflow.com/questions/41985509/tensorflow-machine-learning-no-decoder-for-tiff-images\n",
    "\n",
    "So this is probably the main challenge of that first assessment.\n",
    "\n",
    "To solve the problem, we will convert the JP2 image to JPG using rasterio (and GDAL underneath)\n",
    "\n",
    "The following function takes a JP2 image, an output file name (with extension) and a single band number (1, 2, or 3) and writes the raster to a new file."
   ]
  },
  {
   "cell_type": "code",
   "execution_count": null,
   "metadata": {},
   "outputs": [],
   "source": [
    "# C.COULOMBE - I've generalized the function in order to process different format\n",
    "# So it processes .TIF but also .JPG - insofar the driver arguments remain the same\n",
    "def write_image(input_file, input_driver, output_file, output_driver, band):\n",
    "    with rasterio.open(input_file) as src_dataset:\n",
    "        with rasterio.open(input_file, driver=input_driver) as dataset:\n",
    "            array = dataset.read(band)\n",
    "        # Get a copy of the source dataset's profile. Thus our\n",
    "        # destination dataset will have the same dimensions,\n",
    "        # number of bands, data type, and georeferencing as the\n",
    "        # source dataset.\n",
    "        kwds = src_dataset.profile\n",
    "\n",
    "        # Change the format driver for the destination dataset to\n",
    "        # 'GTiff', short for GeoTIFF.\n",
    "        kwds['driver'] = output_driver\n",
    "\n",
    "        # Add driver-specific keyword arguments.\n",
    "        kwds['tiled'] = True\n",
    "        kwds['blockxsize'] = 256\n",
    "        kwds['blockysize'] = 256\n",
    "        kwds['photometric'] = 'YCbCr'\n",
    "        kwds['compress'] = 'JPEG'\n",
    "\n",
    "        with rasterio.open(output_file, 'w', **kwds) as dst_dataset:\n",
    "            # Write data to the destination dataset.\n",
    "            dst_dataset.write(array.astype(rasterio.uint8), 1)\n",
    "        return output_file\n",
    "    \n",
    "print(\"Code loaded\")"
   ]
  },
  {
   "cell_type": "code",
   "execution_count": null,
   "metadata": {
    "scrolled": true
   },
   "outputs": [],
   "source": [
    "input_file = 'Lake_Poopo_Bolivia.jp2'\n",
    "input_driver = 'JP2OpenJPEG'\n",
    "output_driver = 'JPEG'\n",
    "\n",
    "files_list = [write_image(input_file, input_driver, output_file, output_driver, band) \n",
    " for output_file,band in zip(['r1.jpg', 'r2.jpg', 'r3.jpg'],[1,2,3])]\n",
    "files_list"
   ]
  },
  {
   "cell_type": "markdown",
   "metadata": {},
   "source": [
    "This next bit of code gets the meta data from the first file (that is the same as the remaining two files), and writes a merged 3-band raster in JPEG format"
   ]
  },
  {
   "cell_type": "code",
   "execution_count": null,
   "metadata": {},
   "outputs": [],
   "source": [
    "# Read metadata of first file\n",
    "with rasterio.open(files_list[0]) as src0:\n",
    "    meta = src0.meta\n",
    "\n",
    "# Update meta to reflect the number of layers\n",
    "meta.update(count = len(files_list))\n",
    "\n",
    "# Read each layer and write it to stack\n",
    "with rasterio.open('Lake_Poopo_Bolivia.jpg', 'w', **meta) as dst:\n",
    "    for id, layer in enumerate(files_list, start=1):\n",
    "        with rasterio.open(layer) as src1:\n",
    "            dst.write_band(id, src1.read(1))\n",
    "\n",
    "print(\"Code executed\")"
   ]
  },
  {
   "cell_type": "code",
   "execution_count": null,
   "metadata": {},
   "outputs": [],
   "source": [
    "image_jpg = rasterio.open('Lake_Poopo_Bolivia.jpg', driver='JPEG')\n",
    "\n",
    "# Get the dimension of the image\n",
    "print(image_jpg.bounds)\n",
    "\n",
    "# Get the coordinate reference system used in the image.\n",
    "print(image_jpg.crs)\n",
    "\n",
    "# Get the number of bands in the image\n",
    "print(image_jpg.indexes)\n"
   ]
  },
  {
   "cell_type": "code",
   "execution_count": null,
   "metadata": {},
   "outputs": [],
   "source": [
    "# Show the entire image with 3 bands\n",
    "from rasterio.plot import show\n",
    "fig = plt.figure(figsize=(5,5))\n",
    "show(image_jpg)\n",
    "print(\"image_jpg.shape:\",image_jpg.shape)\n"
   ]
  },
  {
   "cell_type": "code",
   "execution_count": null,
   "metadata": {},
   "outputs": [],
   "source": [
    "# Showing 3 derived images with each of the 3 bands in the image\n",
    "fig, (axr, axg, axb) = plt.subplots(1,3, figsize=(21,7))\n",
    "show((image_jpg, 1), ax=axr, cmap='Reds', title='red channel')\n",
    "show((image_jpg, 2), ax=axg, cmap='Greens', title='green channel')\n",
    "show((image_jpg, 3), ax=axb, cmap='Blues', title='blue channel')\n",
    "plt.show()\n"
   ]
  },
  {
   "cell_type": "markdown",
   "metadata": {},
   "source": [
    "## Image processing with TensorFlow\n",
    "\n",
    "Now we have a .jpg image we can open and process it using TensorFlow\n",
    "\n",
    "### Loading image in TensorFlow"
   ]
  },
  {
   "cell_type": "code",
   "execution_count": null,
   "metadata": {},
   "outputs": [],
   "source": [
    "import tensorflow as tf\n",
    "from matplotlib import pyplot as plt\n",
    "# In order to avoid DecompressionBombError\n",
    "from PIL import Image\n",
    "Image.MAX_IMAGE_PIXELS = None\n",
    "\n",
    "file = open(\"Lake_Poopo_Bolivia.jpg\", \"rb\")\n",
    "image_jpg = file.read()\n",
    "file.close()\n",
    "image_tf = tf.image.decode_jpeg(image_jpg, channels=3)\n",
    "print(image_tf.shape)\n",
    "_ = plt.imshow(image_tf)\n"
   ]
  },
  {
   "cell_type": "markdown",
   "metadata": {},
   "source": [
    "### Resizing image using TensorFlow"
   ]
  },
  {
   "cell_type": "code",
   "execution_count": null,
   "metadata": {},
   "outputs": [],
   "source": [
    "image_tf = tf.image.convert_image_dtype(image_tf, tf.float32)\n",
    "\n",
    "IMG_HEIGHT = int(image_tf.shape[0]/8)\n",
    "IMG_WIDTH = int(image_tf.shape[1]/8)\n",
    "\n",
    "smaller_image_tf = tf.image.resize(image_tf, [IMG_HEIGHT, IMG_WIDTH])\n",
    "\n",
    "_ = plt.imshow(smaller_image_tf)\n"
   ]
  },
  {
   "cell_type": "markdown",
   "metadata": {},
   "source": [
    "### Image rotation using TensorFlow"
   ]
  },
  {
   "cell_type": "code",
   "execution_count": null,
   "metadata": {},
   "outputs": [],
   "source": [
    "rotated_image_tf = tf.image.rot90(smaller_image_tf)\n",
    "\n",
    "_ = plt.imshow(rotated_image_tf)\n"
   ]
  },
  {
   "cell_type": "markdown",
   "metadata": {},
   "source": [
    "### Image intensity (brightness) using TensorFlow"
   ]
  },
  {
   "cell_type": "code",
   "execution_count": null,
   "metadata": {},
   "outputs": [],
   "source": [
    "less_bright_image_tf = tf.image.adjust_brightness(rotated_image_tf,delta=-0.2)\n",
    "_ = plt.imshow(tf.clip_by_value(less_bright_image_tf, clip_value_min=0.0, clip_value_max=1.0))\n"
   ]
  },
  {
   "cell_type": "code",
   "execution_count": null,
   "metadata": {},
   "outputs": [],
   "source": [
    "print(\"Notebook executed\")"
   ]
  }
 ],
 "metadata": {
  "kernelspec": {
   "display_name": "Python 3",
   "language": "python",
   "name": "python3"
  },
  "language_info": {
   "codemirror_mode": {
    "name": "ipython",
    "version": 3
   },
   "file_extension": ".py",
   "mimetype": "text/x-python",
   "name": "python",
   "nbconvert_exporter": "python",
   "pygments_lexer": "ipython3",
   "version": "3.7.0"
  }
 },
 "nbformat": 4,
 "nbformat_minor": 4
}
